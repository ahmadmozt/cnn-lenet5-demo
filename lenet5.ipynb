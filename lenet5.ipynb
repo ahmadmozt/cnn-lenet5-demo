{
  "nbformat": 4,
  "nbformat_minor": 0,
  "metadata": {
    "colab": {
      "name": "lenet5.ipynb",
      "provenance": [],
      "authorship_tag": "ABX9TyMoMNt/BWdcTIffC9RWWOYI",
      "include_colab_link": true
    },
    "kernelspec": {
      "name": "python3",
      "display_name": "Python 3"
    },
    "accelerator": "GPU"
  },
  "cells": [
    {
      "cell_type": "markdown",
      "metadata": {
        "id": "view-in-github",
        "colab_type": "text"
      },
      "source": [
        "<a href=\"https://colab.research.google.com/github/mushthofa-am/cnn-lenet5-demo/blob/master/lenet5.ipynb\" target=\"_parent\"><img src=\"https://colab.research.google.com/assets/colab-badge.svg\" alt=\"Open In Colab\"/></a>"
      ]
    },
    {
      "cell_type": "markdown",
      "metadata": {
        "id": "PZLnOs0fFu5F",
        "colab_type": "text"
      },
      "source": [
        "# Lenet5-MNIST Demo"
      ]
    },
    {
      "cell_type": "markdown",
      "metadata": {
        "id": "lPXZ2321a2TE",
        "colab_type": "text"
      },
      "source": [
        "### Google Colab"
      ]
    },
    {
      "cell_type": "code",
      "metadata": {
        "id": "GiAtT_JdFuM6",
        "colab_type": "code",
        "colab": {
          "base_uri": "https://localhost:8080/",
          "height": 124
        },
        "outputId": "335ff24a-caa2-4597-e667-34db3cf3c46b"
      },
      "source": [
        "from google.colab import drive\n",
        "drive.mount('/content/drive')"
      ],
      "execution_count": 1,
      "outputs": [
        {
          "output_type": "stream",
          "text": [
            "Go to this URL in a browser: https://accounts.google.com/o/oauth2/auth?client_id=947318989803-6bn6qk8qdgf4n4g3pfee6491hc0brc4i.apps.googleusercontent.com&redirect_uri=urn%3aietf%3awg%3aoauth%3a2.0%3aoob&response_type=code&scope=email%20https%3a%2f%2fwww.googleapis.com%2fauth%2fdocs.test%20https%3a%2f%2fwww.googleapis.com%2fauth%2fdrive%20https%3a%2f%2fwww.googleapis.com%2fauth%2fdrive.photos.readonly%20https%3a%2f%2fwww.googleapis.com%2fauth%2fpeopleapi.readonly\n",
            "\n",
            "Enter your authorization code:\n",
            "··········\n",
            "Mounted at /content/drive\n"
          ],
          "name": "stdout"
        }
      ]
    },
    {
      "cell_type": "markdown",
      "metadata": {
        "id": "Bwj0GuvFa8GC",
        "colab_type": "text"
      },
      "source": [
        "### Libraries"
      ]
    },
    {
      "cell_type": "code",
      "metadata": {
        "id": "iSGgbYaADOvK",
        "colab_type": "code",
        "colab": {
          "base_uri": "https://localhost:8080/",
          "height": 81
        },
        "outputId": "ef08a222-56d3-4d30-8c3e-cab37ef2a708"
      },
      "source": [
        "import cv2\n",
        "import numpy as np\n",
        "import matplotlib.pyplot as plt\n",
        "\n",
        "from keras.datasets import mnist\n",
        "from keras.utils import to_categorical\n",
        "from keras.models import Model, load_model\n",
        "from keras.layers import Input, Conv2D, AveragePooling2D, Flatten, Dense"
      ],
      "execution_count": 2,
      "outputs": [
        {
          "output_type": "stream",
          "text": [
            "Using TensorFlow backend.\n"
          ],
          "name": "stderr"
        },
        {
          "output_type": "display_data",
          "data": {
            "text/html": [
              "<p style=\"color: red;\">\n",
              "The default version of TensorFlow in Colab will soon switch to TensorFlow 2.x.<br>\n",
              "We recommend you <a href=\"https://www.tensorflow.org/guide/migrate\" target=\"_blank\">upgrade</a> now \n",
              "or ensure your notebook will continue to use TensorFlow 1.x via the <code>%tensorflow_version 1.x</code> magic:\n",
              "<a href=\"https://colab.research.google.com/notebooks/tensorflow_version.ipynb\" target=\"_blank\">more info</a>.</p>\n"
            ],
            "text/plain": [
              "<IPython.core.display.HTML object>"
            ]
          },
          "metadata": {
            "tags": []
          }
        }
      ]
    },
    {
      "cell_type": "markdown",
      "metadata": {
        "id": "imoktMl1bAZ8",
        "colab_type": "text"
      },
      "source": [
        "### Load Data"
      ]
    },
    {
      "cell_type": "code",
      "metadata": {
        "id": "ecBP0d4dF13t",
        "colab_type": "code",
        "colab": {
          "base_uri": "https://localhost:8080/",
          "height": 69
        },
        "outputId": "c2d653e0-5834-4e3d-cdfe-60a902a25954"
      },
      "source": [
        "(X_train, y_train), (X_test, y_test) = mnist.load_data()\n",
        "\n",
        "len_train = len(X_train)\n",
        "len_test = len(X_test)\n",
        "print(f'jumlah train {len_train}, jumlah test {len_test}')"
      ],
      "execution_count": 3,
      "outputs": [
        {
          "output_type": "stream",
          "text": [
            "Downloading data from https://s3.amazonaws.com/img-datasets/mnist.npz\n",
            "11493376/11490434 [==============================] - 0s 0us/step\n",
            "jumlah train 60000, jumlah test 10000\n"
          ],
          "name": "stdout"
        }
      ]
    },
    {
      "cell_type": "markdown",
      "metadata": {
        "id": "VPJHcWcBbGqX",
        "colab_type": "text"
      },
      "source": [
        "### Show data sample"
      ]
    },
    {
      "cell_type": "code",
      "metadata": {
        "id": "jc3djWkdHbvf",
        "colab_type": "code",
        "colab": {
          "base_uri": "https://localhost:8080/",
          "height": 285
        },
        "outputId": "527e3cc5-ac40-4866-e9c0-607af76114b2"
      },
      "source": [
        "index = 2\n",
        "label_train = f'train label {y_train[index]}'\n",
        "shape_train = f'\\nshape {X_train[index].shape}'\n",
        "label_test = f'\\ntest label {y_test[index]}'\n",
        "shape_test = f'\\nshape {X_test[index].shape}'\n",
        "\n",
        "print(label_train, shape_train, label_test, shape_test)\n",
        "\n",
        "plt.subplot(121), plt.imshow(X_train[index], 'gray'), plt.title('train')\n",
        "plt.subplot(122), plt.imshow(X_test[index], 'gray'), plt.title('test')\n",
        "plt.show()"
      ],
      "execution_count": 4,
      "outputs": [
        {
          "output_type": "stream",
          "text": [
            "train label 4 \n",
            "shape (28, 28) \n",
            "test label 1 \n",
            "shape (28, 28)\n"
          ],
          "name": "stdout"
        },
        {
          "output_type": "display_data",
          "data": {
            "image/png": "[encoded data removed]",
            "text/plain": [
              "<Figure size 432x288 with 2 Axes>"
            ]
          },
          "metadata": {
            "tags": []
          }
        }
      ]
    },
    {
      "cell_type": "markdown",
      "metadata": {
        "id": "xI0RNaAwoXxJ",
        "colab_type": "text"
      },
      "source": [
        "### Resize"
      ]
    },
    {
      "cell_type": "code",
      "metadata": {
        "id": "gyMjwMmGk0kr",
        "colab_type": "code",
        "colab": {}
      },
      "source": [
        "size = 32\n",
        "X_train = [cv2.resize(img, (size, size)) for img in X_train]\n",
        "X_test = [cv2.resize(img, (size, size)) for img in X_test]"
      ],
      "execution_count": 0,
      "outputs": []
    },
    {
      "cell_type": "code",
      "metadata": {
        "id": "IEsy4AJ3nE_z",
        "colab_type": "code",
        "colab": {
          "base_uri": "https://localhost:8080/",
          "height": 285
        },
        "outputId": "94cf6f60-b419-4792-eda5-4c30989e440d"
      },
      "source": [
        "index = 2\n",
        "label_train = f'train label {y_train[index]}'\n",
        "shape_train = f'\\nshape {X_train[index].shape}'\n",
        "label_test = f'\\ntest label {y_test[index]}'\n",
        "shape_test = f'\\nshape {X_test[index].shape}'\n",
        "\n",
        "print(label_train, shape_train, label_test, shape_test)\n",
        "\n",
        "plt.subplot(121), plt.imshow(X_train[index], 'gray'), plt.title('train')\n",
        "plt.subplot(122), plt.imshow(X_test[index], 'gray'), plt.title('test')\n",
        "plt.show()"
      ],
      "execution_count": 6,
      "outputs": [
        {
          "output_type": "stream",
          "text": [
            "train label 4 \n",
            "shape (32, 32) \n",
            "test label 1 \n",
            "shape (32, 32)\n"
          ],
          "name": "stdout"
        },
        {
          "output_type": "display_data",
          "data": {
            "image/png": "[encoded data removed]",
            "text/plain": [
              "<Figure size 432x288 with 2 Axes>"
            ]
          },
          "metadata": {
            "tags": []
          }
        }
      ]
    },
    {
      "cell_type": "markdown",
      "metadata": {
        "id": "lF03XF3MbOFY",
        "colab_type": "text"
      },
      "source": [
        "### Preprocessing"
      ]
    },
    {
      "cell_type": "code",
      "metadata": {
        "id": "2lfOfYGrM2Pi",
        "colab_type": "code",
        "colab": {
          "base_uri": "https://localhost:8080/",
          "height": 52
        },
        "outputId": "0b6b934a-5e99-45fd-f549-81a557e3e8e8"
      },
      "source": [
        "# Image\n",
        "# 1 = front, -1 = end\n",
        "X_train = np.expand_dims(X_train, axis=-1)\n",
        "X_test = np.expand_dims(X_test, axis=-1)\n",
        "\n",
        "input_shape = X_train[0].shape\n",
        "\n",
        "print(f'keras requirement, train {X_train.shape}, test {X_test.shape}')\n",
        "\n",
        "print(f'single image {input_shape}')\n"
      ],
      "execution_count": 7,
      "outputs": [
        {
          "output_type": "stream",
          "text": [
            "keras requirement, train (60000, 32, 32, 1), test (10000, 32, 32, 1)\n",
            "single image (32, 32, 1)\n"
          ],
          "name": "stdout"
        }
      ]
    },
    {
      "cell_type": "code",
      "metadata": {
        "id": "fksBrLXeM67O",
        "colab_type": "code",
        "colab": {}
      },
      "source": [
        "X_train = (X_train.astype('float32'))/255\n",
        "X_test = (X_test.astype('float32'))/255"
      ],
      "execution_count": 0,
      "outputs": []
    },
    {
      "cell_type": "code",
      "metadata": {
        "id": "RTlyqzbONZED",
        "colab_type": "code",
        "colab": {
          "base_uri": "https://localhost:8080/",
          "height": 52
        },
        "outputId": "ee0633bf-1030-440b-aba6-a22bb3957575"
      },
      "source": [
        "# Class / label\n",
        "jml_class = 10\n",
        "y_train = to_categorical(y_train, jml_class)\n",
        "y_test = to_categorical(y_test, jml_class)\n",
        "\n",
        "print(f'train {y_train[index]}, shape {y_train.shape}')\n",
        "print(f'test {y_test[index]}, shape {y_test.shape}')"
      ],
      "execution_count": 9,
      "outputs": [
        {
          "output_type": "stream",
          "text": [
            "train [0. 0. 0. 0. 1. 0. 0. 0. 0. 0.], shape (60000, 10)\n",
            "test [0. 1. 0. 0. 0. 0. 0. 0. 0. 0.], shape (10000, 10)\n"
          ],
          "name": "stdout"
        }
      ]
    },
    {
      "cell_type": "markdown",
      "metadata": {
        "id": "pK9QYv6kba7j",
        "colab_type": "text"
      },
      "source": [
        "### Model"
      ]
    },
    {
      "cell_type": "code",
      "metadata": {
        "id": "8pjTyVq2QIDH",
        "colab_type": "code",
        "colab": {
          "base_uri": "https://localhost:8080/",
          "height": 627
        },
        "outputId": "7e152710-2e9d-462d-8f9a-e53393f87b15"
      },
      "source": [
        "model_name = 'Lenet-5'\n",
        "filter_numbers = [6, 16, 120, 84]\n",
        "\n",
        "X_input = Input(shape=input_shape) # (32, 32, 1)\n",
        "\n",
        "X = Conv2D(filter_numbers[0], (5, 5), strides=1, activation='relu')(X_input)\n",
        "X = AveragePooling2D((2, 2), strides=2)(X)\n",
        "\n",
        "X = Conv2D(filter_numbers[1], (5, 5), strides=1, activation='relu')(X)\n",
        "X = AveragePooling2D((2, 2), strides=2)(X)\n",
        "\n",
        "X = Flatten()(X)\n",
        "\n",
        "X = Dense(filter_numbers[2], activation='relu')(X)\n",
        "\n",
        "X = Dense(filter_numbers[3], activation='relu')(X)\n",
        "X = Dense(jml_class, activation='softmax')(X)\n",
        "\n",
        "model = Model(inputs=X_input, outputs=X, name=model_name)\n",
        "model.summary()"
      ],
      "execution_count": 10,
      "outputs": [
        {
          "output_type": "stream",
          "text": [
            "WARNING:tensorflow:From /usr/local/lib/python3.6/dist-packages/keras/backend/tensorflow_backend.py:66: The name tf.get_default_graph is deprecated. Please use tf.compat.v1.get_default_graph instead.\n",
            "\n",
            "WARNING:tensorflow:From /usr/local/lib/python3.6/dist-packages/keras/backend/tensorflow_backend.py:541: The name tf.placeholder is deprecated. Please use tf.compat.v1.placeholder instead.\n",
            "\n",
            "WARNING:tensorflow:From /usr/local/lib/python3.6/dist-packages/keras/backend/tensorflow_backend.py:4432: The name tf.random_uniform is deprecated. Please use tf.random.uniform instead.\n",
            "\n",
            "WARNING:tensorflow:From /usr/local/lib/python3.6/dist-packages/keras/backend/tensorflow_backend.py:4271: The name tf.nn.avg_pool is deprecated. Please use tf.nn.avg_pool2d instead.\n",
            "\n",
            "Model: \"Lenet-5\"\n",
            "_________________________________________________________________\n",
            "Layer (type)                 Output Shape              Param #   \n",
            "=================================================================\n",
            "input_1 (InputLayer)         (None, 32, 32, 1)         0         \n",
            "_________________________________________________________________\n",
            "conv2d_1 (Conv2D)            (None, 28, 28, 6)         156       \n",
            "_________________________________________________________________\n",
            "average_pooling2d_1 (Average (None, 14, 14, 6)         0         \n",
            "_________________________________________________________________\n",
            "conv2d_2 (Conv2D)            (None, 10, 10, 16)        2416      \n",
            "_________________________________________________________________\n",
            "average_pooling2d_2 (Average (None, 5, 5, 16)          0         \n",
            "_________________________________________________________________\n",
            "flatten_1 (Flatten)          (None, 400)               0         \n",
            "_________________________________________________________________\n",
            "dense_1 (Dense)              (None, 120)               48120     \n",
            "_________________________________________________________________\n",
            "dense_2 (Dense)              (None, 84)                10164     \n",
            "_________________________________________________________________\n",
            "dense_3 (Dense)              (None, 10)                850       \n",
            "=================================================================\n",
            "Total params: 61,706\n",
            "Trainable params: 61,706\n",
            "Non-trainable params: 0\n",
            "_________________________________________________________________\n"
          ],
          "name": "stdout"
        }
      ]
    },
    {
      "cell_type": "code",
      "metadata": {
        "id": "sb6vQyRXS8B_",
        "colab_type": "code",
        "colab": {
          "base_uri": "https://localhost:8080/",
          "height": 106
        },
        "outputId": "3c458b26-fb70-4eec-d0ed-f1b3002c6985"
      },
      "source": [
        "model.compile(\n",
        "    loss = 'categorical_crossentropy',\n",
        "    optimizer = 'adam',\n",
        "    metrics = ['accuracy']\n",
        ")"
      ],
      "execution_count": 11,
      "outputs": [
        {
          "output_type": "stream",
          "text": [
            "WARNING:tensorflow:From /usr/local/lib/python3.6/dist-packages/keras/optimizers.py:793: The name tf.train.Optimizer is deprecated. Please use tf.compat.v1.train.Optimizer instead.\n",
            "\n",
            "WARNING:tensorflow:From /usr/local/lib/python3.6/dist-packages/keras/backend/tensorflow_backend.py:3576: The name tf.log is deprecated. Please use tf.math.log instead.\n",
            "\n"
          ],
          "name": "stdout"
        }
      ]
    },
    {
      "cell_type": "code",
      "metadata": {
        "id": "8arBCJj_VWlx",
        "colab_type": "code",
        "colab": {
          "base_uri": "https://localhost:8080/",
          "height": 1000
        },
        "outputId": "fc81e1fe-5e1d-403a-bf39-5a7304909ce6"
      },
      "source": [
        "histories = model.fit(\n",
        "    X_train, y_train,\n",
        "    validation_data = (X_test, y_test),\n",
        "    epochs = 20,\n",
        "    batch_size = 128,\n",
        "    verbose = 1,\n",
        ")"
      ],
      "execution_count": 12,
      "outputs": [
        {
          "output_type": "stream",
          "text": [
            "WARNING:tensorflow:From /usr/local/lib/python3.6/dist-packages/tensorflow_core/python/ops/math_grad.py:1424: where (from tensorflow.python.ops.array_ops) is deprecated and will be removed in a future version.\n",
            "Instructions for updating:\n",
            "Use tf.where in 2.0, which has the same broadcast rule as np.where\n",
            "WARNING:tensorflow:From /usr/local/lib/python3.6/dist-packages/keras/backend/tensorflow_backend.py:1033: The name tf.assign_add is deprecated. Please use tf.compat.v1.assign_add instead.\n",
            "\n",
            "WARNING:tensorflow:From /usr/local/lib/python3.6/dist-packages/keras/backend/tensorflow_backend.py:1020: The name tf.assign is deprecated. Please use tf.compat.v1.assign instead.\n",
            "\n",
            "WARNING:tensorflow:From /usr/local/lib/python3.6/dist-packages/keras/backend/tensorflow_backend.py:3005: The name tf.Session is deprecated. Please use tf.compat.v1.Session instead.\n",
            "\n",
            "Train on 60000 samples, validate on 10000 samples\n",
            "Epoch 1/20\n",
            "WARNING:tensorflow:From /usr/local/lib/python3.6/dist-packages/keras/backend/tensorflow_backend.py:190: The name tf.get_default_session is deprecated. Please use tf.compat.v1.get_default_session instead.\n",
            "\n",
            "WARNING:tensorflow:From /usr/local/lib/python3.6/dist-packages/keras/backend/tensorflow_backend.py:197: The name tf.ConfigProto is deprecated. Please use tf.compat.v1.ConfigProto instead.\n",
            "\n",
            "WARNING:tensorflow:From /usr/local/lib/python3.6/dist-packages/keras/backend/tensorflow_backend.py:207: The name tf.global_variables is deprecated. Please use tf.compat.v1.global_variables instead.\n",
            "\n",
            "WARNING:tensorflow:From /usr/local/lib/python3.6/dist-packages/keras/backend/tensorflow_backend.py:216: The name tf.is_variable_initialized is deprecated. Please use tf.compat.v1.is_variable_initialized instead.\n",
            "\n",
            "WARNING:tensorflow:From /usr/local/lib/python3.6/dist-packages/keras/backend/tensorflow_backend.py:223: The name tf.variables_initializer is deprecated. Please use tf.compat.v1.variables_initializer instead.\n",
            "\n",
            "60000/60000 [==============================] - 16s 273us/step - loss: 0.3382 - acc: 0.9022 - val_loss: 0.1039 - val_acc: 0.9688\n",
            "Epoch 2/20\n",
            "60000/60000 [==============================] - 2s 41us/step - loss: 0.0931 - acc: 0.9720 - val_loss: 0.0780 - val_acc: 0.9752\n",
            "Epoch 3/20\n",
            "60000/60000 [==============================] - 3s 42us/step - loss: 0.0654 - acc: 0.9800 - val_loss: 0.0508 - val_acc: 0.9845\n",
            "Epoch 4/20\n",
            "60000/60000 [==============================] - 2s 41us/step - loss: 0.0536 - acc: 0.9834 - val_loss: 0.0420 - val_acc: 0.9865\n",
            "Epoch 5/20\n",
            "60000/60000 [==============================] - 3s 42us/step - loss: 0.0453 - acc: 0.9857 - val_loss: 0.0404 - val_acc: 0.9857\n",
            "Epoch 6/20\n",
            "60000/60000 [==============================] - 2s 41us/step - loss: 0.0379 - acc: 0.9882 - val_loss: 0.0353 - val_acc: 0.9881\n",
            "Epoch 7/20\n",
            "60000/60000 [==============================] - 2s 41us/step - loss: 0.0321 - acc: 0.9896 - val_loss: 0.0409 - val_acc: 0.9871\n",
            "Epoch 8/20\n",
            "60000/60000 [==============================] - 2s 40us/step - loss: 0.0283 - acc: 0.9906 - val_loss: 0.0399 - val_acc: 0.9877\n",
            "Epoch 9/20\n",
            "60000/60000 [==============================] - 2s 40us/step - loss: 0.0258 - acc: 0.9918 - val_loss: 0.0320 - val_acc: 0.9894\n",
            "Epoch 10/20\n",
            "60000/60000 [==============================] - 2s 41us/step - loss: 0.0223 - acc: 0.9926 - val_loss: 0.0268 - val_acc: 0.9909\n",
            "Epoch 11/20\n",
            "60000/60000 [==============================] - 2s 40us/step - loss: 0.0195 - acc: 0.9933 - val_loss: 0.0357 - val_acc: 0.9891\n",
            "Epoch 12/20\n",
            "60000/60000 [==============================] - 2s 40us/step - loss: 0.0175 - acc: 0.9945 - val_loss: 0.0335 - val_acc: 0.9898\n",
            "Epoch 13/20\n",
            "60000/60000 [==============================] - 2s 39us/step - loss: 0.0159 - acc: 0.9948 - val_loss: 0.0355 - val_acc: 0.9897\n",
            "Epoch 14/20\n",
            "60000/60000 [==============================] - 2s 41us/step - loss: 0.0142 - acc: 0.9953 - val_loss: 0.0662 - val_acc: 0.9816\n",
            "Epoch 15/20\n",
            "60000/60000 [==============================] - 2s 40us/step - loss: 0.0131 - acc: 0.9958 - val_loss: 0.0296 - val_acc: 0.9896\n",
            "Epoch 16/20\n",
            "60000/60000 [==============================] - 2s 40us/step - loss: 0.0117 - acc: 0.9963 - val_loss: 0.0283 - val_acc: 0.9907\n",
            "Epoch 17/20\n",
            "60000/60000 [==============================] - 2s 40us/step - loss: 0.0105 - acc: 0.9965 - val_loss: 0.0361 - val_acc: 0.9895\n",
            "Epoch 18/20\n",
            "60000/60000 [==============================] - 2s 41us/step - loss: 0.0085 - acc: 0.9975 - val_loss: 0.0386 - val_acc: 0.9889\n",
            "Epoch 19/20\n",
            "60000/60000 [==============================] - 2s 41us/step - loss: 0.0100 - acc: 0.9964 - val_loss: 0.0432 - val_acc: 0.9886\n",
            "Epoch 20/20\n",
            "60000/60000 [==============================] - 2s 41us/step - loss: 0.0104 - acc: 0.9965 - val_loss: 0.0465 - val_acc: 0.9878\n"
          ],
          "name": "stdout"
        }
      ]
    },
    {
      "cell_type": "markdown",
      "metadata": {
        "id": "FtGwY9D4bq_b",
        "colab_type": "text"
      },
      "source": [
        "### Results"
      ]
    },
    {
      "cell_type": "code",
      "metadata": {
        "id": "fHOCBy8IV-AI",
        "colab_type": "code",
        "colab": {
          "base_uri": "https://localhost:8080/",
          "height": 312
        },
        "outputId": "d15ce454-e603-4144-9470-aaf448e88964"
      },
      "source": [
        "# Acc\n",
        "f, ax = plt.subplots()\n",
        "ax.plot([None] + histories.history['acc'], 'o-')\n",
        "ax.plot([None] + histories.history['val_acc'], '*-')\n",
        "ax.legend(['acc train', 'acc_val'], loc = 0)\n",
        "ax.set_title('acc train and acc val')\n",
        "ax.set_xlabel('epoch')\n",
        "ax.set_ylabel('acc')"
      ],
      "execution_count": 13,
      "outputs": [
        {
          "output_type": "execute_result",
          "data": {
            "text/plain": [
              "Text(0, 0.5, 'acc')"
            ]
          },
          "metadata": {
            "tags": []
          },
          "execution_count": 13
        },
        {
          "output_type": "display_data",
          "data": {
            "image/png": "[encoded data removed]",
            "text/plain": [
              "<Figure size 432x288 with 1 Axes>"
            ]
          },
          "metadata": {
            "tags": []
          }
        }
      ]
    },
    {
      "cell_type": "code",
      "metadata": {
        "id": "hVpR8SwtZPhG",
        "colab_type": "code",
        "colab": {
          "base_uri": "https://localhost:8080/",
          "height": 312
        },
        "outputId": "5c9c4364-d285-4514-b613-5610f3be7fa1"
      },
      "source": [
        "# Loss\n",
        "f, ax = plt.subplots()\n",
        "ax.plot([None] + histories.history['loss'], 'o-')\n",
        "ax.plot([None] + histories.history['val_loss'], '*-')\n",
        "ax.legend(['loss train', 'loss_val'])\n",
        "ax.set_title('loss train & val')\n",
        "ax.set_xlabel('epoch')\n",
        "ax.set_ylabel('loss')"
      ],
      "execution_count": 14,
      "outputs": [
        {
          "output_type": "execute_result",
          "data": {
            "text/plain": [
              "Text(0, 0.5, 'loss')"
            ]
          },
          "metadata": {
            "tags": []
          },
          "execution_count": 14
        },
        {
          "output_type": "display_data",
          "data": {
            "image/png": "[encoded data removed]",
            "text/plain": [
              "<Figure size 432x288 with 1 Axes>"
            ]
          },
          "metadata": {
            "tags": []
          }
        }
      ]
    },
    {
      "cell_type": "markdown",
      "metadata": {
        "id": "RMEf-SW6ikl2",
        "colab_type": "text"
      },
      "source": [
        "### Evaluate"
      ]
    },
    {
      "cell_type": "code",
      "metadata": {
        "id": "uiGLacv4cRp4",
        "colab_type": "code",
        "colab": {
          "base_uri": "https://localhost:8080/",
          "height": 52
        },
        "outputId": "e4de7fde-4ee2-469a-ca48-c56e4c25b249"
      },
      "source": [
        "test_score = model.evaluate(X_test, y_test)\n",
        "print(\"Test loss {:.4f}, accuracy {:.2f}%\".format(test_score[0], test_score[1] * 100))"
      ],
      "execution_count": 15,
      "outputs": [
        {
          "output_type": "stream",
          "text": [
            "10000/10000 [==============================] - 1s 52us/step\n",
            "Test loss 0.0465, accuracy 98.78%\n"
          ],
          "name": "stdout"
        }
      ]
    },
    {
      "cell_type": "markdown",
      "metadata": {
        "id": "yXsYa8yNioHu",
        "colab_type": "text"
      },
      "source": [
        "### Save"
      ]
    },
    {
      "cell_type": "code",
      "metadata": {
        "id": "_kz4lbMPeBOY",
        "colab_type": "code",
        "colab": {}
      },
      "source": [
        "path = \"drive/My Drive/Colab Notebooks/model.h5\"\n",
        "model.save(path)"
      ],
      "execution_count": 0,
      "outputs": []
    },
    {
      "cell_type": "markdown",
      "metadata": {
        "id": "r7zq37s6iqb8",
        "colab_type": "text"
      },
      "source": [
        "### Load"
      ]
    },
    {
      "cell_type": "code",
      "metadata": {
        "id": "tUlurbwDeWg9",
        "colab_type": "code",
        "colab": {
          "base_uri": "https://localhost:8080/",
          "height": 469
        },
        "outputId": "388f291f-b848-4d26-9221-c917888c9b28"
      },
      "source": [
        "loaded_model = load_model(path)\n",
        "loaded_model.summary()"
      ],
      "execution_count": 17,
      "outputs": [
        {
          "output_type": "stream",
          "text": [
            "Model: \"Lenet-5\"\n",
            "_________________________________________________________________\n",
            "Layer (type)                 Output Shape              Param #   \n",
            "=================================================================\n",
            "input_1 (InputLayer)         (None, 32, 32, 1)         0         \n",
            "_________________________________________________________________\n",
            "conv2d_1 (Conv2D)            (None, 28, 28, 6)         156       \n",
            "_________________________________________________________________\n",
            "average_pooling2d_1 (Average (None, 14, 14, 6)         0         \n",
            "_________________________________________________________________\n",
            "conv2d_2 (Conv2D)            (None, 10, 10, 16)        2416      \n",
            "_________________________________________________________________\n",
            "average_pooling2d_2 (Average (None, 5, 5, 16)          0         \n",
            "_________________________________________________________________\n",
            "flatten_1 (Flatten)          (None, 400)               0         \n",
            "_________________________________________________________________\n",
            "dense_1 (Dense)              (None, 120)               48120     \n",
            "_________________________________________________________________\n",
            "dense_2 (Dense)              (None, 84)                10164     \n",
            "_________________________________________________________________\n",
            "dense_3 (Dense)              (None, 10)                850       \n",
            "=================================================================\n",
            "Total params: 61,706\n",
            "Trainable params: 61,706\n",
            "Non-trainable params: 0\n",
            "_________________________________________________________________\n"
          ],
          "name": "stdout"
        }
      ]
    },
    {
      "cell_type": "markdown",
      "metadata": {
        "id": "WxQN7Plkislp",
        "colab_type": "text"
      },
      "source": [
        "### Predict"
      ]
    },
    {
      "cell_type": "code",
      "metadata": {
        "id": "u4BUkeZNfEgk",
        "colab_type": "code",
        "colab": {
          "base_uri": "https://localhost:8080/",
          "height": 86
        },
        "outputId": "ae062423-e79c-4778-af50-131c766842f0"
      },
      "source": [
        "index_predict = 5\n",
        "single_predict = np.expand_dims(X_test[index_predict], axis=0)\n",
        "print(single_predict.shape)\n",
        "\n",
        "predicted = loaded_model.predict(single_predict) # predict char\n",
        "print(f'predicted {predicted}')\n",
        "print(f'label {y_test[index_predict]}')"
      ],
      "execution_count": 18,
      "outputs": [
        {
          "output_type": "stream",
          "text": [
            "(1, 32, 32, 1)\n",
            "predicted [[1.3952685e-07 9.9999297e-01 4.2065306e-08 2.5094141e-13 9.0726115e-07\n",
            "  8.0216493e-12 1.8562329e-09 1.1530330e-07 5.8899309e-06 5.8808258e-10]]\n",
            "label [0. 1. 0. 0. 0. 0. 0. 0. 0. 0.]\n"
          ],
          "name": "stdout"
        }
      ]
    }
  ]
}